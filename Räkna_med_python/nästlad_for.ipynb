{
 "metadata": {
  "language_info": {
   "codemirror_mode": {
    "name": "ipython",
    "version": 3
   },
   "file_extension": ".py",
   "mimetype": "text/x-python",
   "name": "python",
   "nbconvert_exporter": "python",
   "pygments_lexer": "ipython3",
   "version": "3.8.3-final"
  },
  "orig_nbformat": 2,
  "kernelspec": {
   "name": "Python 3.8.3 64-bit ('base': conda)",
   "display_name": "Python 3.8.3 64-bit ('base': conda)",
   "metadata": {
    "interpreter": {
     "hash": "32d3f5a1c2b5567bec393df6ff018e004e86126481f45fcedbe3d204fc8e1d8c"
    }
   }
  }
 },
 "nbformat": 4,
 "nbformat_minor": 2,
 "cells": [
  {
   "source": [
    "# Nästlad for-sats\n",
    "en for-sats i en for-sats"
   ],
   "cell_type": "markdown",
   "metadata": {}
  },
  {
   "cell_type": "code",
   "execution_count": 9,
   "metadata": {
    "tags": []
   },
   "outputs": [
    {
     "output_type": "stream",
     "name": "stdout",
     "text": "# # # # # # # # # # 0\n# # # # # # # # # # 1\n# # # # # # # # # # 2\n# # # # # # # # # # 3\n# # # # # # # # # # 4\n# # # # # # # # # # 5\n# # # # # # # # # # 6\n# # # # # # # # # # 7\n# # # # # # # # # # 8\n# # # # # # # # # # 9\n"
    }
   ],
   "source": [
    "for i in range(10):\n",
    "    for j in range(10):\n",
    "        print(\"#\", end = \" \")\n",
    "    print(i)\n"
   ]
  }
 ]
}